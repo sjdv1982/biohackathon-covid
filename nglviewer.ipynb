{
 "cells": [
  {
   "cell_type": "markdown",
   "metadata": {},
   "source": [
    "#### Create NGL viewer instance, the \"easy way\""
   ]
  },
  {
   "cell_type": "code",
   "execution_count": 43,
   "metadata": {},
   "outputs": [
    {
     "data": {
      "application/vnd.jupyter.widget-view+json": {
       "model_id": "75a7744a8a434842b9e20d10e8175b83",
       "version_major": 2,
       "version_minor": 0
      },
      "text/plain": [
       "NGLWidget()"
      ]
     },
     "metadata": {},
     "output_type": "display_data"
    }
   ],
   "source": [
    "import nglview\n",
    "view1 = nglview.show_pdbid(\"1b7f\")\n",
    "view1"
   ]
  },
  {
   "cell_type": "markdown",
   "metadata": {},
   "source": [
    "#### but: how to add a new component?"
   ]
  },
  {
   "cell_type": "code",
   "execution_count": 44,
   "metadata": {},
   "outputs": [
    {
     "data": {
      "text/plain": [
       "<nglview.component.ComponentViewer at 0x7f7de0329438>"
      ]
     },
     "execution_count": 44,
     "metadata": {},
     "output_type": "execute_result"
    }
   ],
   "source": [
    "view1.add_component(\"rcsb://1cvj.pdb\")"
   ]
  },
  {
   "cell_type": "markdown",
   "metadata": {},
   "source": [
    "#### Create NGL viewer instance, the hard way (but with usable API)"
   ]
  },
  {
   "cell_type": "code",
   "execution_count": 41,
   "metadata": {},
   "outputs": [
    {
     "data": {
      "application/vnd.jupyter.widget-view+json": {
       "model_id": "914bbb7e4d964c7eadcdcf7d614c80dc",
       "version_major": 2,
       "version_minor": 0
      },
      "text/plain": [
       "NGLWidget()"
      ]
     },
     "metadata": {},
     "output_type": "display_data"
    }
   ],
   "source": [
    "import nglview\n",
    "view = nglview.NGLWidget()\n",
    "view"
   ]
  },
  {
   "cell_type": "markdown",
   "metadata": {},
   "source": [
    "#### Create a NGL viewer instance and load two PDBs, from PDB codes (very non-reproducible!)"
   ]
  },
  {
   "cell_type": "code",
   "execution_count": 45,
   "metadata": {},
   "outputs": [],
   "source": [
    "view.clear()\n",
    "component1 = view.add_component(\"rcsb://1b7f.pdb\")\n",
    "component1.add_ball_and_stick()\n",
    "component2 = view.add_component(\"rcsb://1cvj.pdb\")\n",
    "component2.add_ball_and_stick()"
   ]
  },
  {
   "cell_type": "markdown",
   "metadata": {},
   "source": [
    "#### Clear the view (does not work properly....)"
   ]
  },
  {
   "cell_type": "code",
   "execution_count": 46,
   "metadata": {},
   "outputs": [],
   "source": [
    "view.clear()"
   ]
  },
  {
   "cell_type": "markdown",
   "metadata": {},
   "source": [
    "#### Clear the view and load two PDBs, as files (still non-reproducible!)"
   ]
  },
  {
   "cell_type": "code",
   "execution_count": 47,
   "metadata": {},
   "outputs": [],
   "source": [
    "view.clear()\n",
    "component1 = view.add_component(\"file1.pdb\")\n",
    "component1.add_ball_and_stick()\n",
    "component2 = view.add_component(\"file2.pdb\")\n",
    "component2.add_ball_and_stick()"
   ]
  },
  {
   "cell_type": "markdown",
   "metadata": {},
   "source": [
    "### The reproducible way is to compute the coordinates of the PDB file within the Notebook (e.g. by doing docking), and then display them with NGL.\n",
    "\n",
    "### Below is \"placeholder code\" that still loads it from a file. In your mind, you should replace it with a real computation"
   ]
  },
  {
   "cell_type": "code",
   "execution_count": 55,
   "metadata": {},
   "outputs": [],
   "source": [
    "pdbdata1 = open(\"file1.pdb\").read()\n",
    "pdbdata2 = open(\"file2.pdb\").read() #Works for me "
   ]
  },
  {
   "cell_type": "markdown",
   "metadata": {},
   "source": [
    "**Now, we have the coordinates in two variables \"pdbdata1\" and \"pdbdata\". How do we display them?**"
   ]
  },
  {
   "cell_type": "code",
   "execution_count": 51,
   "metadata": {},
   "outputs": [],
   "source": [
    "from io import StringIO\n",
    "pdbfile1 = StringIO(pdbdata1)\n",
    "pdbfile2 = StringIO(pdbdata2)"
   ]
  },
  {
   "cell_type": "code",
   "execution_count": 52,
   "metadata": {},
   "outputs": [],
   "source": [
    "view.clear()\n",
    "component1 = view.add_component(pdbfile1,ext=\"pdb\")\n",
    "component1.add_ball_and_stick()\n",
    "component2 = view.add_component(pdbfile2,ext=\"pdb\")\n",
    "component2.add_ball_and_stick()"
   ]
  },
  {
   "cell_type": "markdown",
   "metadata": {},
   "source": [
    "## Conclusions\n",
    "\n",
    "- **\"Easy\" is not really easy**\n",
    "- **Doing the wrong thing is encouraged**\n",
    "- **Technical issues (NGL and Jupyter)**\n",
    "\n",
    "=> ***Like the QWERTY keyboard...***"
   ]
  },
  {
   "cell_type": "code",
   "execution_count": null,
   "metadata": {},
   "outputs": [],
   "source": []
  }
 ],
 "metadata": {
  "kernelspec": {
   "display_name": "Python 3",
   "language": "python",
   "name": "python3"
  },
  "language_info": {
   "codemirror_mode": {
    "name": "ipython",
    "version": 3
   },
   "file_extension": ".py",
   "mimetype": "text/x-python",
   "name": "python",
   "nbconvert_exporter": "python",
   "pygments_lexer": "ipython3",
   "version": "3.6.10"
  }
 },
 "nbformat": 4,
 "nbformat_minor": 4
}
