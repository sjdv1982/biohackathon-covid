{
 "cells": [
  {
   "cell_type": "code",
   "execution_count": 1,
   "metadata": {},
   "outputs": [
    {
     "name": "stderr",
     "output_type": "stream",
     "text": [
      "Seamless buffer cache cleanup is currently disabled.\n",
      "This prevents data loss from bugs in Seamless's buffer caching.\n",
      "If you have memory issues, restart Python periodically,\n",
      " and/or use Redis to store buffers\n"
     ]
    },
    {
     "name": "stdout",
     "output_type": "stream",
     "text": [
      "Project loaded.\n",
      "\n",
      "    Main context is \"ctx\"\n",
      "    Status context is \"ctx2\"\n",
      "    Run save() to save the context\n",
      "    \n",
      "Opened the seamless share update server at port 5138\n",
      "Opened the seamless REST server at port 5813\n",
      "Waiting for: Seamless transformer: .center_protein.tf Seamless transformer: .center_trinucleotide.tf \n",
      "Waiting for: Seamless transformer: .center_protein.tf Seamless transformer: .center_trinucleotide.tf \n",
      "Waiting for: Seamless transformer: .aareduce_nucleotide.tf Seamless transformer: .aareduce_protein.tf \n",
      "Waiting for: Seamless transformer: .aareduce_protein.tf Seamless transformer: .reduce_trinucleotide.tf Seamless transformer: .trans_trinucl1.tf \n",
      "ctx.auto_translate is currently unstable and has been disabled\n",
      "You must run regularly \"ctx.translate()\" (IPython)\n",
      "or \"await ctx.translation()\" (Jupyter) after modifying the graph.\n",
      "Translation is not required after modifying only cell values\n",
      "Waiting for: Seamless transformer: .aareduce_protein.tf Seamless transformer: .reduce_trinucleotide.tf Seamless transformer: .trans_trinucl1.tf \n",
      "Waiting for: Seamless transformer: .aareduce_protein.tf Seamless transformer: .reduce_trinucleotide.tf Seamless transformer: .trans_trinucl1.tf \n",
      "Waiting for: Seamless transformer: .reduce_protein.tf Seamless transformer: .trans_trinucl2.tf \n",
      "Waiting for: Seamless transformer: .reduce_protein.tf Seamless transformer: .trans_trinucl2.tf \n",
      "Waiting for: Seamless transformer: .gen_restraints.tf \n",
      "Waiting for: Seamless transformer: .dock.tf Seamless transformer: .score.tf \n",
      "Waiting for: Seamless transformer: .dock.tf Seamless transformer: .score.tf \n"
     ]
    }
   ],
   "source": [
    "%run -i init-project.py\n",
    "await load()\n",
    "await ctx.computation()"
   ]
  },
  {
   "cell_type": "code",
   "execution_count": 52,
   "metadata": {},
   "outputs": [
    {
     "data": {
      "application/vnd.jupyter.widget-view+json": {
       "model_id": "dc4855fc4d8c4119b3c88fb7b5f7dad7",
       "version_major": 2,
       "version_minor": 0
      },
      "text/plain": [
       "Output(outputs=({'output_type': 'display_data', 'data': {'text/plain': '2204.5223967383777\\n## Command line ar…"
      ]
     },
     "metadata": {},
     "output_type": "display_data"
    }
   ],
   "source": [
    "ctx.test.output()"
   ]
  },
  {
   "cell_type": "code",
   "execution_count": null,
   "metadata": {},
   "outputs": [],
   "source": [
    "from ipywidgets import FloatSlider"
   ]
  },
  {
   "cell_type": "code",
   "execution_count": null,
   "metadata": {},
   "outputs": [],
   "source": [
    "x = FloatSlider(description=\"RNA X\", min=-200, max=200, value=0)\n",
    "x"
   ]
  },
  {
   "cell_type": "code",
   "execution_count": null,
   "metadata": {},
   "outputs": [],
   "source": [
    "y = FloatSlider(description=\"RNA Y\", min=-200, max=200, value=0)\n",
    "y"
   ]
  },
  {
   "cell_type": "code",
   "execution_count": null,
   "metadata": {},
   "outputs": [],
   "source": [
    "z = FloatSlider(description=\"RNA Z\", min=-200, max=200, value=0)\n",
    "z"
   ]
  },
  {
   "cell_type": "code",
   "execution_count": null,
   "metadata": {},
   "outputs": [],
   "source": [
    "ctx.trinucl_offset_x.traitlet().link(x) \n",
    "ctx.trinucl_offset_y.traitlet().link(y) \n",
    "ctx.trinucl_offset_z.traitlet().link(z) "
   ]
  },
  {
   "cell_type": "code",
   "execution_count": null,
   "metadata": {},
   "outputs": [],
   "source": [
    "ctx.scored2.output()"
   ]
  },
  {
   "cell_type": "code",
   "execution_count": null,
   "metadata": {},
   "outputs": [],
   "source": [
    "ctx.docked2.output()"
   ]
  },
  {
   "cell_type": "code",
   "execution_count": null,
   "metadata": {},
   "outputs": [],
   "source": [
    "ctx.protein.output()"
   ]
  },
  {
   "cell_type": "code",
   "execution_count": null,
   "metadata": {
    "scrolled": true
   },
   "outputs": [],
   "source": [
    "ctx.trinucleotide.output()"
   ]
  },
  {
   "cell_type": "code",
   "execution_count": null,
   "metadata": {
    "scrolled": true
   },
   "outputs": [],
   "source": [
    "ctx.trinucleotide_centered.output()"
   ]
  },
  {
   "cell_type": "code",
   "execution_count": null,
   "metadata": {},
   "outputs": [],
   "source": []
  }
 ],
 "metadata": {
  "kernelspec": {
   "display_name": "Python 3",
   "language": "python",
   "name": "python3"
  },
  "language_info": {
   "codemirror_mode": {
    "name": "ipython",
    "version": 3
   },
   "file_extension": ".py",
   "mimetype": "text/x-python",
   "name": "python",
   "nbconvert_exporter": "python",
   "pygments_lexer": "ipython3",
   "version": "3.7.3"
  }
 },
 "nbformat": 4,
 "nbformat_minor": 2
}
