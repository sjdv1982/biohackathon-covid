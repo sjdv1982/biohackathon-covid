{
 "cells": [
  {
   "cell_type": "code",
   "execution_count": 1,
   "metadata": {},
   "outputs": [
    {
     "name": "stderr",
     "output_type": "stream",
     "text": [
      "Seamless buffer cache cleanup is currently disabled.\n",
      "This prevents data loss from bugs in Seamless's buffer caching.\n",
      "If you have memory issues, restart Python periodically,\n",
      " and/or use Redis to store buffers\n"
     ]
    },
    {
     "name": "stdout",
     "output_type": "stream",
     "text": [
      "Project loaded.\n",
      "\n",
      "    Main context is \"ctx\"\n",
      "    Status context is \"ctx2\"\n",
      "    Run save() to save the context\n",
      "    \n",
      "Opened the seamless share update server at port 5138\n",
      "Opened the seamless REST server at port 5813\n",
      "Waiting for: Seamless transformer: .aareduce_nucleotide.tf Seamless transformer: .aareduce_protein.tf \n",
      "Waiting for: Seamless transformer: .aareduce_protein.tf Seamless transformer: .reduce_trinucleotide.tf Seamless transformer: .trans_trinucl1.tf \n",
      "Waiting for: Seamless transformer: .reduce_protein.tf \n",
      "Waiting for: Seamless transformer: .dock.tf Seamless transformer: .score.tf \n",
      "ctx.auto_translate is currently unstable and has been disabled\n",
      "You must run regularly \"ctx.translate()\" (IPython)\n",
      "or \"await ctx.translation()\" (Jupyter) after modifying the graph.\n",
      "Translation is not required after modifying only cell values\n"
     ]
    }
   ],
   "source": [
    "%run -i init-project.py\n",
    "await load()\n",
    "await ctx.computation()"
   ]
  },
  {
   "cell_type": "code",
   "execution_count": 2,
   "metadata": {},
   "outputs": [
    {
     "data": {
      "application/vnd.jupyter.widget-view+json": {
       "model_id": "39f62958a9f042498e3bc81a5cd8623b",
       "version_major": 2,
       "version_minor": 0
      },
      "text/plain": [
       "Output(outputs=({'output_type': 'display_data', 'data': {'text/plain': '293.949'}, 'metadata': {}},))"
      ]
     },
     "metadata": {},
     "output_type": "display_data"
    }
   ],
   "source": [
    "ctx.test.output()"
   ]
  },
  {
   "cell_type": "code",
   "execution_count": 3,
   "metadata": {},
   "outputs": [],
   "source": [
    "from ipywidgets import FloatSlider"
   ]
  },
  {
   "cell_type": "code",
   "execution_count": 4,
   "metadata": {},
   "outputs": [
    {
     "data": {
      "application/vnd.jupyter.widget-view+json": {
       "model_id": "b58ffd30cbf7420fb5903cce6284ab6b",
       "version_major": 2,
       "version_minor": 0
      },
      "text/plain": [
       "FloatSlider(value=0.0, description='RNA X', max=200.0, min=-200.0)"
      ]
     },
     "metadata": {},
     "output_type": "display_data"
    }
   ],
   "source": [
    "x = FloatSlider(description=\"RNA X\", min=-200, max=200, value=0)\n",
    "x"
   ]
  },
  {
   "cell_type": "code",
   "execution_count": 5,
   "metadata": {},
   "outputs": [
    {
     "data": {
      "application/vnd.jupyter.widget-view+json": {
       "model_id": "a8b92e61145a451596396f91b4a83091",
       "version_major": 2,
       "version_minor": 0
      },
      "text/plain": [
       "FloatSlider(value=0.0, description='RNA Y', max=200.0, min=-200.0)"
      ]
     },
     "metadata": {},
     "output_type": "display_data"
    }
   ],
   "source": [
    "y = FloatSlider(description=\"RNA Y\", min=-200, max=200, value=0)\n",
    "y"
   ]
  },
  {
   "cell_type": "code",
   "execution_count": 6,
   "metadata": {},
   "outputs": [
    {
     "data": {
      "application/vnd.jupyter.widget-view+json": {
       "model_id": "baf9bc80069443ed80a1f67722b99f8f",
       "version_major": 2,
       "version_minor": 0
      },
      "text/plain": [
       "FloatSlider(value=0.0, description='RNA Z', max=200.0, min=-200.0)"
      ]
     },
     "metadata": {},
     "output_type": "display_data"
    }
   ],
   "source": [
    "z = FloatSlider(description=\"RNA Z\", min=-200, max=200, value=0)\n",
    "z"
   ]
  },
  {
   "cell_type": "code",
   "execution_count": 7,
   "metadata": {},
   "outputs": [
    {
     "data": {
      "text/plain": [
       "<seamless.highlevel.SeamlessTraitlet.Link at 0x7fae6f8d9be0>"
      ]
     },
     "execution_count": 7,
     "metadata": {},
     "output_type": "execute_result"
    }
   ],
   "source": [
    "ctx.trinucl_offset_x.traitlet().link(x) \n",
    "ctx.trinucl_offset_y.traitlet().link(y) \n",
    "ctx.trinucl_offset_z.traitlet().link(z) "
   ]
  },
  {
   "cell_type": "code",
   "execution_count": 8,
   "metadata": {},
   "outputs": [
    {
     "data": {
      "application/vnd.jupyter.widget-view+json": {
       "model_id": "6351976d4eb945ebabc1349954257724",
       "version_major": 2,
       "version_minor": 0
      },
      "text/plain": [
       "Output(outputs=({'output_type': 'display_data', 'data': {'text/plain': '2204.5223967383777'}, 'metadata': {}},…"
      ]
     },
     "metadata": {},
     "output_type": "display_data"
    }
   ],
   "source": [
    "ctx.scored2.output()"
   ]
  },
  {
   "cell_type": "code",
   "execution_count": 9,
   "metadata": {},
   "outputs": [
    {
     "data": {
      "application/vnd.jupyter.widget-view+json": {
       "model_id": "ddf201b88b704bffa596c628dec024ec",
       "version_major": 2,
       "version_minor": 0
      },
      "text/plain": [
       "Output(outputs=({'output_type': 'display_data', 'data': {'text/plain': '293.949'}, 'metadata': {}},))"
      ]
     },
     "metadata": {},
     "output_type": "display_data"
    }
   ],
   "source": [
    "ctx.docked2.output()"
   ]
  },
  {
   "cell_type": "code",
   "execution_count": 10,
   "metadata": {},
   "outputs": [
    {
     "data": {
      "application/vnd.jupyter.widget-view+json": {
       "model_id": "66e87493438b47f0b519be2dcc59b307",
       "version_major": 2,
       "version_minor": 0
      },
      "text/plain": [
       "Output(outputs=({'output_type': 'display_data', 'data': {'text/plain': \"HEADER    REPLICATION, VIRAL PROTEIN  …"
      ]
     },
     "metadata": {},
     "output_type": "display_data"
    }
   ],
   "source": [
    "ctx.protein.output()"
   ]
  },
  {
   "cell_type": "code",
   "execution_count": 11,
   "metadata": {
    "scrolled": true
   },
   "outputs": [
    {
     "data": {
      "application/vnd.jupyter.widget-view+json": {
       "model_id": "10ba959d58ef4177b9febae7dad8614a",
       "version_major": 2,
       "version_minor": 0
      },
      "text/plain": [
       "Output(outputs=({'output_type': 'display_data', 'data': {'text/plain': \"ATOM    336  P     U Q   5      32.028…"
      ]
     },
     "metadata": {},
     "output_type": "display_data"
    }
   ],
   "source": [
    "ctx.trinucleotide.output()"
   ]
  },
  {
   "cell_type": "code",
   "execution_count": 12,
   "metadata": {
    "scrolled": true
   },
   "outputs": [
    {
     "data": {
      "application/vnd.jupyter.widget-view+json": {
       "model_id": "3e183aa84c4043e38a3e27563bea3a5c",
       "version_major": 2,
       "version_minor": 0
      },
      "text/plain": [
       "Output(outputs=({'output_type': 'display_data', 'data': {'text/plain': \"ATOM    336  P     U Q   5       3.422…"
      ]
     },
     "metadata": {},
     "output_type": "display_data"
    }
   ],
   "source": [
    "ctx.trinucleotide_centered.output()"
   ]
  },
  {
   "cell_type": "code",
   "execution_count": 13,
   "metadata": {},
   "outputs": [],
   "source": [
    "ctx.camera_view = Cell()\n",
    "await ctx.translation()\n",
    "\n",
    "ctx.camera_view.mimetype = 'text'\n",
    "# ctx.camera_view.share(readonly=False)\n",
    "ctx.camera_view.share()\n",
    "await ctx.translation()"
   ]
  }
 ],
 "metadata": {
  "kernelspec": {
   "display_name": "Python 3",
   "language": "python",
   "name": "python3"
  },
  "language_info": {
   "codemirror_mode": {
    "name": "ipython",
    "version": 3
   },
   "file_extension": ".py",
   "mimetype": "text/x-python",
   "name": "python",
   "nbconvert_exporter": "python",
   "pygments_lexer": "ipython3",
   "version": "3.7.3"
  }
 },
 "nbformat": 4,
 "nbformat_minor": 2
}
